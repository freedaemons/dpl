{
 "cells": [
  {
   "cell_type": "code",
   "execution_count": 1,
   "metadata": {
    "collapsed": true
   },
   "outputs": [],
   "source": [
    "#The goal is to go beyond regex of useful substrings from each entry, and to perform topological analysis of address construction\n",
    "import pandas as pd\n",
    "import numpy as np\n",
    "import scipy.stats as stats\n",
    "from sklearn.cluster import KMeans\n",
    "\n",
    "import matplotlib.pyplot as plt\n",
    "%matplotlib inline"
   ]
  },
  {
   "cell_type": "code",
   "execution_count": 2,
   "metadata": {
    "collapsed": false
   },
   "outputs": [
    {
     "data": {
      "text/html": [
       "<div>\n",
       "<table border=\"1\" class=\"dataframe\">\n",
       "  <thead>\n",
       "    <tr style=\"text-align: right;\">\n",
       "      <th></th>\n",
       "      <th>id</th>\n",
       "      <th>Address</th>\n",
       "      <th>Count</th>\n",
       "    </tr>\n",
       "  </thead>\n",
       "  <tbody>\n",
       "    <tr>\n",
       "      <th>442</th>\n",
       "      <td>443</td>\n",
       "      <td></td>\n",
       "      <td>20</td>\n",
       "    </tr>\n",
       "  </tbody>\n",
       "</table>\n",
       "</div>"
      ],
      "text/plain": [
       "      id Address  Count\n",
       "442  443             20"
      ]
     },
     "execution_count": 2,
     "metadata": {},
     "output_type": "execute_result"
    }
   ],
   "source": [
    "file = 'NonStdAdd.tsv'\n",
    "df=pd.read_table(file)\n",
    "df.insert(0,'id',range(1,len(df)+1))\n",
    "df.fillna(\"\", inplace=True)\n",
    "df.iloc[[442]]"
   ]
  },
  {
   "cell_type": "code",
   "execution_count": 3,
   "metadata": {
    "collapsed": false,
    "scrolled": true
   },
   "outputs": [
    {
     "data": {
      "text/html": [
       "<div>\n",
       "<table border=\"1\" class=\"dataframe\">\n",
       "  <thead>\n",
       "    <tr style=\"text-align: right;\">\n",
       "      <th></th>\n",
       "      <th>id</th>\n",
       "      <th>Address</th>\n",
       "      <th>Count</th>\n",
       "      <th>bag</th>\n",
       "    </tr>\n",
       "  </thead>\n",
       "  <tbody>\n",
       "    <tr>\n",
       "      <th>638</th>\n",
       "      <td>639</td>\n",
       "      <td>MK13-05599X PT, MK13-05610K PT, MK13-06071C PT...</td>\n",
       "      <td>285</td>\n",
       "      <td>[MK13-05599X, PT, MK13-05610K, PT, MK13-06071C...</td>\n",
       "    </tr>\n",
       "  </tbody>\n",
       "</table>\n",
       "</div>"
      ],
      "text/plain": [
       "      id                                            Address  Count  \\\n",
       "638  639  MK13-05599X PT, MK13-05610K PT, MK13-06071C PT...    285   \n",
       "\n",
       "                                                   bag  \n",
       "638  [MK13-05599X, PT, MK13-05610K, PT, MK13-06071C...  "
      ]
     },
     "execution_count": 3,
     "metadata": {},
     "output_type": "execute_result"
    }
   ],
   "source": [
    "#bar = [word.replace(',','') for address in df['Address'] for word in address.split(' ')] #breaks list of str into list of lists - unwanted behavior\n",
    "#df['bag1'] = [ad.split() for ad in df['Address']]\n",
    "df['bag'] = df['Address'].apply(lambda address: [word.strip(',') for word in address.split()])\n",
    "#bag = df['Address'].apply(lambda x: x.split()) #does the same thing as the list comprehension\n",
    "#print(bag[0])\n",
    "#result = [word.strip(\",\") for word in bag]\n",
    "df.iloc[[638]]"
   ]
  },
  {
   "cell_type": "code",
   "execution_count": 4,
   "metadata": {
    "collapsed": false,
    "scrolled": true
   },
   "outputs": [
    {
     "data": {
      "text/html": [
       "<div>\n",
       "<table border=\"1\" class=\"dataframe\">\n",
       "  <thead>\n",
       "    <tr style=\"text-align: right;\">\n",
       "      <th></th>\n",
       "      <th>id</th>\n",
       "      <th>Address</th>\n",
       "      <th>Count</th>\n",
       "      <th>bag</th>\n",
       "      <th>len_topo</th>\n",
       "    </tr>\n",
       "  </thead>\n",
       "  <tbody>\n",
       "    <tr>\n",
       "      <th>638</th>\n",
       "      <td>639</td>\n",
       "      <td>MK13-05599X PT, MK13-05610K PT, MK13-06071C PT...</td>\n",
       "      <td>285</td>\n",
       "      <td>[MK13-05599X, PT, MK13-05610K, PT, MK13-06071C...</td>\n",
       "      <td>11-2-11-2-11-2-3-8-3-11-5-2-9-13-1-8-1-3-4-7-5...</td>\n",
       "    </tr>\n",
       "  </tbody>\n",
       "</table>\n",
       "</div>"
      ],
      "text/plain": [
       "      id                                            Address  Count  \\\n",
       "638  639  MK13-05599X PT, MK13-05610K PT, MK13-06071C PT...    285   \n",
       "\n",
       "                                                   bag  \\\n",
       "638  [MK13-05599X, PT, MK13-05610K, PT, MK13-06071C...   \n",
       "\n",
       "                                              len_topo  \n",
       "638  11-2-11-2-11-2-3-8-3-11-5-2-9-13-1-8-1-3-4-7-5...  "
      ]
     },
     "execution_count": 4,
     "metadata": {},
     "output_type": "execute_result"
    }
   ],
   "source": [
    "df['len_topo'] = df['bag'].apply(lambda bag: '-'.join([str(len(part)) for part in bag]))\n",
    "df.iloc[[638]]"
   ]
  },
  {
   "cell_type": "code",
   "execution_count": 5,
   "metadata": {
    "collapsed": false,
    "scrolled": false
   },
   "outputs": [
    {
     "name": "stdout",
     "output_type": "stream",
     "text": [
      "                           id  Address  Count  bag\n",
      "len_topo                                          \n",
      "1-5-4-9-6                   2        2      2    2\n",
      "1-6-4-9-6                   3        3      3    3\n",
      "11-11-11-11-11-11-2-5-7-8   2        2      2    2\n",
      "11-2-10-8                   2        2      2    2\n",
      "11-2-3-4-4                  2        2      2    2\n",
      "11-2-4-5-6-1                2        2      2    2\n",
      "11-2-4-5-6-2                2        2      2    2\n",
      "11-2-5-5                    4        4      4    4\n",
      "11-2-6-4                    2        2      2    2\n",
      "11-2-6-6-2                  3        3      3    3\n",
      "11-2-7-4                    2        2      2    2\n",
      "11-2-9-4                    2        2      2    2\n",
      "11-2-9-4-1-7-4              2        2      2    2\n",
      "2-4-3-5-9-6                 2        2      2    2\n",
      "2-5-4-9-6                   2        2      2    2\n",
      "2-5-6-9-6                   3        3      3    3\n",
      "2-6-4-9-6                   9        9      9    9\n",
      "2-7-4-9-6                   3        3      3    3\n",
      "2-8-4-8-6-9-6               2        2      2    2\n",
      "3-4-2-2-5-4-9-6             2        2      2    2\n",
      "3-6-4-2-8-10-6-2            2        2      2    2\n",
      "3-6-4-9-6                   3        3      3    3\n",
      "3-7-4-9-6                   4        4      4    4\n",
      "3-9-4-9-6                   3        3      3    3\n",
      "4-3-3-4-7-4                 4        4      4    4\n",
      "4-5-4-7-4                   3        3      3    3\n",
      "4-6-3-2-2-6-4               2        2      2    2\n",
      "4-6-3-2-2-8-6               2        2      2    2\n",
      "5-3-3-4-7-4                22       22     22   22\n",
      "5-5-4-6-8                   3        3      3    3\n",
      "5-5-4-7-4                   7        7      7    7\n",
      "5-9-7-4                     4        4      4    4\n",
      "6-5-4-7-4                   7        7      7    7\n",
      "6-5-6-7-4                   2        2      2    2\n",
      "8-5-4-7-4-5                 2        2      2    2\n"
     ]
    },
    {
     "data": {
      "image/png": "[encoded data removed]",
      "text/plain": [
       "<matplotlib.figure.Figure at 0x1f5295a3e80>"
      ]
     },
     "metadata": {},
     "output_type": "display_data"
    }
   ],
   "source": [
    "len_topodf = df.groupby('len_topo').count()\n",
    "print(len_topodf[len_topodf.Count != 1])\n",
    "len_topodf[len_topodf.Count != 1].plot(kind='bar')\n",
    "plt.show()"
   ]
  },
  {
   "cell_type": "code",
   "execution_count": 6,
   "metadata": {
    "collapsed": false,
    "scrolled": false
   },
   "outputs": [
    {
     "data": {
      "text/html": [
       "<div>\n",
       "<table border=\"1\" class=\"dataframe\">\n",
       "  <thead>\n",
       "    <tr style=\"text-align: right;\">\n",
       "      <th></th>\n",
       "      <th>id</th>\n",
       "      <th>Address</th>\n",
       "      <th>Count</th>\n",
       "      <th>bag</th>\n",
       "      <th>len_topo</th>\n",
       "      <th>wc_topo</th>\n",
       "    </tr>\n",
       "  </thead>\n",
       "  <tbody>\n",
       "    <tr>\n",
       "      <th>638</th>\n",
       "      <td>639</td>\n",
       "      <td>MK13-05599X PT, MK13-05610K PT, MK13-06071C PT...</td>\n",
       "      <td>285</td>\n",
       "      <td>[MK13-05599X, PT, MK13-05610K, PT, MK13-06071C...</td>\n",
       "      <td>11-2-11-2-11-2-3-8-3-11-5-2-9-13-1-8-1-3-4-7-5...</td>\n",
       "      <td>28</td>\n",
       "    </tr>\n",
       "  </tbody>\n",
       "</table>\n",
       "</div>"
      ],
      "text/plain": [
       "      id                                            Address  Count  \\\n",
       "638  639  MK13-05599X PT, MK13-05610K PT, MK13-06071C PT...    285   \n",
       "\n",
       "                                                   bag  \\\n",
       "638  [MK13-05599X, PT, MK13-05610K, PT, MK13-06071C...   \n",
       "\n",
       "                                              len_topo  wc_topo  \n",
       "638  11-2-11-2-11-2-3-8-3-11-5-2-9-13-1-8-1-3-4-7-5...       28  "
      ]
     },
     "execution_count": 6,
     "metadata": {},
     "output_type": "execute_result"
    }
   ],
   "source": [
    "df['wc_topo'] = [len(bag) for bag in df['bag']]\n",
    "df.iloc[[638]]"
   ]
  },
  {
   "cell_type": "code",
   "execution_count": 7,
   "metadata": {
    "collapsed": false,
    "scrolled": true
   },
   "outputs": [
    {
     "name": "stdout",
     "output_type": "stream",
     "text": [
      "          id  Address  Count  bag  len_topo\n",
      "wc_topo                                    \n",
      "3          6        6      6    6         6\n",
      "4         33       33     33   33        33\n",
      "5        105      105    105  105       105\n",
      "6         93       93     93   93        93\n",
      "7         72       72     72   72        72\n",
      "8         71       71     71   71        71\n",
      "9         60       60     60   60        60\n",
      "10        41       41     41   41        41\n",
      "11        29       29     29   29        29\n",
      "12        21       21     21   21        21\n",
      "13        21       21     21   21        21\n",
      "14        16       16     16   16        16\n",
      "15        10       10     10   10        10\n",
      "16        13       13     13   13        13\n",
      "17        12       12     12   12        12\n",
      "18        16       16     16   16        16\n",
      "19         8        8      8    8         8\n",
      "20         9        9      9    9         9\n",
      "21        10       10     10   10        10\n",
      "22         9        9      9    9         9\n",
      "23         4        4      4    4         4\n",
      "24         5        5      5    5         5\n",
      "25         4        4      4    4         4\n",
      "26         7        7      7    7         7\n",
      "28         6        6      6    6         6\n",
      "29         3        3      3    3         3\n",
      "30         4        4      4    4         4\n",
      "31         2        2      2    2         2\n",
      "33         2        2      2    2         2\n",
      "36         2        2      2    2         2\n"
     ]
    },
    {
     "data": {
      "image/png": "[encoded data removed]",
      "text/plain": [
       "<matplotlib.figure.Figure at 0x1f52a0c20f0>"
      ]
     },
     "metadata": {},
     "output_type": "display_data"
    }
   ],
   "source": [
    "wc_topodf = df.groupby('wc_topo').count()\n",
    "print(wc_topodf[wc_topodf.Count != 1])\n",
    "wc_topodf.plot(kind='bar')\n",
    "plt.show()"
   ]
  },
  {
   "cell_type": "code",
   "execution_count": 8,
   "metadata": {
    "collapsed": false,
    "scrolled": false
   },
   "outputs": [
    {
     "ename": "ValueError",
     "evalue": "could not convert string to float: '11-11-11-11-11-11-11-11-11-11-11-11-11-11-11-11-2-6-5-4'",
     "output_type": "error",
     "traceback": [
      "\u001b[1;31m---------------------------------------------------------------------------\u001b[0m",
      "\u001b[1;31mValueError\u001b[0m                                Traceback (most recent call last)",
      "\u001b[1;32m<ipython-input-8-757a4a426796>\u001b[0m in \u001b[0;36m<module>\u001b[1;34m()\u001b[0m\n\u001b[0;32m      1\u001b[0m \u001b[0mdf\u001b[0m\u001b[1;33m.\u001b[0m\u001b[0mdrop\u001b[0m\u001b[1;33m(\u001b[0m\u001b[1;34m'bag'\u001b[0m\u001b[1;33m,\u001b[0m\u001b[1;36m1\u001b[0m\u001b[1;33m,\u001b[0m\u001b[0minplace\u001b[0m\u001b[1;33m=\u001b[0m\u001b[1;32mTrue\u001b[0m\u001b[1;33m)\u001b[0m\u001b[1;33m\u001b[0m\u001b[0m\n\u001b[1;32m----> 2\u001b[1;33m \u001b[0mkmeans_model\u001b[0m \u001b[1;33m=\u001b[0m \u001b[0mKMeans\u001b[0m\u001b[1;33m(\u001b[0m\u001b[0mn_clusters\u001b[0m\u001b[1;33m=\u001b[0m\u001b[1;36m6\u001b[0m\u001b[1;33m,\u001b[0m \u001b[0mrandom_state\u001b[0m\u001b[1;33m=\u001b[0m\u001b[1;36m1\u001b[0m\u001b[1;33m)\u001b[0m\u001b[1;33m.\u001b[0m\u001b[0mfit\u001b[0m\u001b[1;33m(\u001b[0m\u001b[0mdf\u001b[0m\u001b[1;33m.\u001b[0m\u001b[0miloc\u001b[0m\u001b[1;33m[\u001b[0m\u001b[1;33m:\u001b[0m\u001b[1;33m,\u001b[0m\u001b[1;33m:\u001b[0m\u001b[1;36m4\u001b[0m\u001b[1;33m]\u001b[0m\u001b[1;33m)\u001b[0m\u001b[1;33m\u001b[0m\u001b[0m\n\u001b[0m\u001b[0;32m      3\u001b[0m \u001b[0mlabels\u001b[0m \u001b[1;33m=\u001b[0m\u001b[0mkmeals_model\u001b[0m\u001b[1;33m.\u001b[0m\u001b[0mlabels_\u001b[0m\u001b[1;33m\u001b[0m\u001b[0m\n\u001b[0;32m      4\u001b[0m \u001b[1;31m# df.iloc[:,:4]\u001b[0m\u001b[1;33m\u001b[0m\u001b[1;33m\u001b[0m\u001b[0m\n",
      "\u001b[1;32mC:\\Users\\Friedemann\\Anaconda3\\lib\\site-packages\\sklearn\\cluster\\k_means_.py\u001b[0m in \u001b[0;36mfit\u001b[1;34m(self, X, y)\u001b[0m\n\u001b[0;32m    810\u001b[0m         \"\"\"\n\u001b[0;32m    811\u001b[0m         \u001b[0mrandom_state\u001b[0m \u001b[1;33m=\u001b[0m \u001b[0mcheck_random_state\u001b[0m\u001b[1;33m(\u001b[0m\u001b[0mself\u001b[0m\u001b[1;33m.\u001b[0m\u001b[0mrandom_state\u001b[0m\u001b[1;33m)\u001b[0m\u001b[1;33m\u001b[0m\u001b[0m\n\u001b[1;32m--> 812\u001b[1;33m         \u001b[0mX\u001b[0m \u001b[1;33m=\u001b[0m \u001b[0mself\u001b[0m\u001b[1;33m.\u001b[0m\u001b[0m_check_fit_data\u001b[0m\u001b[1;33m(\u001b[0m\u001b[0mX\u001b[0m\u001b[1;33m)\u001b[0m\u001b[1;33m\u001b[0m\u001b[0m\n\u001b[0m\u001b[0;32m    813\u001b[0m \u001b[1;33m\u001b[0m\u001b[0m\n\u001b[0;32m    814\u001b[0m         \u001b[0mself\u001b[0m\u001b[1;33m.\u001b[0m\u001b[0mcluster_centers_\u001b[0m\u001b[1;33m,\u001b[0m \u001b[0mself\u001b[0m\u001b[1;33m.\u001b[0m\u001b[0mlabels_\u001b[0m\u001b[1;33m,\u001b[0m \u001b[0mself\u001b[0m\u001b[1;33m.\u001b[0m\u001b[0minertia_\u001b[0m\u001b[1;33m,\u001b[0m \u001b[0mself\u001b[0m\u001b[1;33m.\u001b[0m\u001b[0mn_iter_\u001b[0m \u001b[1;33m=\u001b[0m\u001b[0;31m \u001b[0m\u001b[0;31m\\\u001b[0m\u001b[1;33m\u001b[0m\u001b[0m\n",
      "\u001b[1;32mC:\\Users\\Friedemann\\Anaconda3\\lib\\site-packages\\sklearn\\cluster\\k_means_.py\u001b[0m in \u001b[0;36m_check_fit_data\u001b[1;34m(self, X)\u001b[0m\n\u001b[0;32m    784\u001b[0m     \u001b[1;32mdef\u001b[0m \u001b[0m_check_fit_data\u001b[0m\u001b[1;33m(\u001b[0m\u001b[0mself\u001b[0m\u001b[1;33m,\u001b[0m \u001b[0mX\u001b[0m\u001b[1;33m)\u001b[0m\u001b[1;33m:\u001b[0m\u001b[1;33m\u001b[0m\u001b[0m\n\u001b[0;32m    785\u001b[0m         \u001b[1;34m\"\"\"Verify that the number of samples given is larger than k\"\"\"\u001b[0m\u001b[1;33m\u001b[0m\u001b[0m\n\u001b[1;32m--> 786\u001b[1;33m         \u001b[0mX\u001b[0m \u001b[1;33m=\u001b[0m \u001b[0mcheck_array\u001b[0m\u001b[1;33m(\u001b[0m\u001b[0mX\u001b[0m\u001b[1;33m,\u001b[0m \u001b[0maccept_sparse\u001b[0m\u001b[1;33m=\u001b[0m\u001b[1;34m'csr'\u001b[0m\u001b[1;33m,\u001b[0m \u001b[0mdtype\u001b[0m\u001b[1;33m=\u001b[0m\u001b[0mnp\u001b[0m\u001b[1;33m.\u001b[0m\u001b[0mfloat64\u001b[0m\u001b[1;33m)\u001b[0m\u001b[1;33m\u001b[0m\u001b[0m\n\u001b[0m\u001b[0;32m    787\u001b[0m         \u001b[1;32mif\u001b[0m \u001b[0mX\u001b[0m\u001b[1;33m.\u001b[0m\u001b[0mshape\u001b[0m\u001b[1;33m[\u001b[0m\u001b[1;36m0\u001b[0m\u001b[1;33m]\u001b[0m \u001b[1;33m<\u001b[0m \u001b[0mself\u001b[0m\u001b[1;33m.\u001b[0m\u001b[0mn_clusters\u001b[0m\u001b[1;33m:\u001b[0m\u001b[1;33m\u001b[0m\u001b[0m\n\u001b[0;32m    788\u001b[0m             raise ValueError(\"n_samples=%d should be >= n_clusters=%d\" % (\n",
      "\u001b[1;32mC:\\Users\\Friedemann\\Anaconda3\\lib\\site-packages\\sklearn\\utils\\validation.py\u001b[0m in \u001b[0;36mcheck_array\u001b[1;34m(array, accept_sparse, dtype, order, copy, force_all_finite, ensure_2d, allow_nd, ensure_min_samples, ensure_min_features, warn_on_dtype, estimator)\u001b[0m\n\u001b[0;32m    371\u001b[0m                                       force_all_finite)\n\u001b[0;32m    372\u001b[0m     \u001b[1;32melse\u001b[0m\u001b[1;33m:\u001b[0m\u001b[1;33m\u001b[0m\u001b[0m\n\u001b[1;32m--> 373\u001b[1;33m         \u001b[0marray\u001b[0m \u001b[1;33m=\u001b[0m \u001b[0mnp\u001b[0m\u001b[1;33m.\u001b[0m\u001b[0marray\u001b[0m\u001b[1;33m(\u001b[0m\u001b[0marray\u001b[0m\u001b[1;33m,\u001b[0m \u001b[0mdtype\u001b[0m\u001b[1;33m=\u001b[0m\u001b[0mdtype\u001b[0m\u001b[1;33m,\u001b[0m \u001b[0morder\u001b[0m\u001b[1;33m=\u001b[0m\u001b[0morder\u001b[0m\u001b[1;33m,\u001b[0m \u001b[0mcopy\u001b[0m\u001b[1;33m=\u001b[0m\u001b[0mcopy\u001b[0m\u001b[1;33m)\u001b[0m\u001b[1;33m\u001b[0m\u001b[0m\n\u001b[0m\u001b[0;32m    374\u001b[0m \u001b[1;33m\u001b[0m\u001b[0m\n\u001b[0;32m    375\u001b[0m         \u001b[1;32mif\u001b[0m \u001b[0mensure_2d\u001b[0m\u001b[1;33m:\u001b[0m\u001b[1;33m\u001b[0m\u001b[0m\n",
      "\u001b[1;31mValueError\u001b[0m: could not convert string to float: '11-11-11-11-11-11-11-11-11-11-11-11-11-11-11-11-2-6-5-4'"
     ]
    }
   ],
   "source": [
    "df.drop('bag',1,inplace=True)\n",
    "kmeans_model = KMeans(n_clusters=6, random_state=1).fit(df.iloc[:,:4])\n",
    "labels =kmeals_model.labels_\n",
    "# df.iloc[:,:4]"
   ]
  }
 ],
 "metadata": {
  "anaconda-cloud": {},
  "kernelspec": {
   "display_name": "Python [default]",
   "language": "python",
   "name": "python3"
  },
  "language_info": {
   "codemirror_mode": {
    "name": "ipython",
    "version": 3
   },
   "file_extension": ".py",
   "mimetype": "text/x-python",
   "name": "python",
   "nbconvert_exporter": "python",
   "pygments_lexer": "ipython3",
   "version": "3.5.2"
  }
 },
 "nbformat": 4,
 "nbformat_minor": 0
}
