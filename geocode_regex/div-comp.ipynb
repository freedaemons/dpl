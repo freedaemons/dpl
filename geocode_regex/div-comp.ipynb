{
 "cells": [
  {
   "cell_type": "code",
   "execution_count": 1,
   "metadata": {
    "collapsed": true
   },
   "outputs": [],
   "source": [
    "#The goal is to go beyond regex of useful substrings from each entry, and to perform topological analysis of address construction\n",
    "import pandas as pd\n",
    "import numpy as np\n",
    "import scipy.stats as stats\n",
    "import re\n",
    "\n",
    "import matplotlib.pyplot as plt\n",
    "%matplotlib inline"
   ]
  },
  {
   "cell_type": "code",
   "execution_count": 2,
   "metadata": {
    "collapsed": false
   },
   "outputs": [
    {
     "data": {
      "text/html": [
       "<div>\n",
       "<table border=\"1\" class=\"dataframe\">\n",
       "  <thead>\n",
       "    <tr style=\"text-align: right;\">\n",
       "      <th></th>\n",
       "      <th>id</th>\n",
       "      <th>Address</th>\n",
       "      <th>Count</th>\n",
       "    </tr>\n",
       "  </thead>\n",
       "  <tbody>\n",
       "    <tr>\n",
       "      <th>442</th>\n",
       "      <td>443</td>\n",
       "      <td></td>\n",
       "      <td>20</td>\n",
       "    </tr>\n",
       "  </tbody>\n",
       "</table>\n",
       "</div>"
      ],
      "text/plain": [
       "      id Address  Count\n",
       "442  443             20"
      ]
     },
     "execution_count": 2,
     "metadata": {},
     "output_type": "execute_result"
    }
   ],
   "source": [
    "file = 'NonStdAdd.tsv'\n",
    "df=pd.read_table(file)\n",
    "df.insert(0,'id',range(1,len(df)+1))\n",
    "df.fillna(\"\", inplace=True)\n",
    "df.iloc[[442]]"
   ]
  },
  {
   "cell_type": "code",
   "execution_count": 3,
   "metadata": {
    "collapsed": false
   },
   "outputs": [
    {
     "name": "stdout",
     "output_type": "stream",
     "text": [
      "   id                                            Address  Count\n",
      "0   1                 YIO CHU KANG ROAD SINGAPORE 540000      1\n",
      "1   2    WOODLEIGH CLOSE LOT 7459 MK 17 SINGAPORE 350000      1\n",
      "2   3  TUAS SOUTH AVENUE 2/5 MK 7 ON LOTS 2843LPT,265...      1\n",
      "3   4  TUAS SOUTH AVE 5, 7 & 8 LOT NO. 2495P MK 7 SIN...      1\n",
      "4   5  TUAS SOUTH AVE 1, 2 & 3 LOT 3103M MK 7 SINGAPO...      1\n",
      "5   6                        TS15-00609T VICTORIA STREET      1\n",
      "6   7  SENGKANG TOWN NEIGHBOURHOOD 2 CONTRACT 37 SING...      1\n",
      "7   8  S.L. LOT 4150PT LOYANG WAY NEAR LP 89 SINGAPOR...      1\n",
      "8   9  PUNGGOL ROAD, (PUNGGOL EAST C19), (CONTRACT NO...      1\n",
      "9  10  PUNGGOL EAST CONTRACT 18 CONTRACT NO: D/077/08...      1\n",
      "      id                                            Address  Count\n",
      "690  691  MK13-04656L , 00880T PT, 04656L PT, 04681P PT,...    606\n",
      "691  692  MK07-04387X PT AT TUAS AVENUE 1 (TUAS PLANNING...    622\n",
      "692  693                  MK07-04819W, TUAS SOUTH AVENUE 16    718\n",
      "693  694                  LOT 05667T MK13 LORONG LADA HITAM    826\n",
      "694  695            MK05-08773X AT BOON LAY WAY (J GATEWAY)    851\n",
      "695  696  47 JALAN BUROH DISTRI WAREHOUSES SINGAPORE 619491    894\n",
      "696  697  MK07-04701M, MK07-04703V, MK07-04819W, MK07-04...    898\n",
      "697  698  MK10-04929W FOR DESIGN AND BUILD OF PUBLIC HOU...    938\n",
      "698  699                      MK21-02390W BUANGKOK CRESCENT   1204\n",
      "699  700  MK31-03370C, MK31-04596M, MK31-04592N, MK31-04...   1936\n"
     ]
    }
   ],
   "source": [
    "print(df.head(10))\n",
    "print(df.tail(10))"
   ]
  }
 ],
 "metadata": {
  "anaconda-cloud": {},
  "kernelspec": {
   "display_name": "Python [default]",
   "language": "python",
   "name": "python3"
  },
  "language_info": {
   "codemirror_mode": {
    "name": "ipython",
    "version": 3
   },
   "file_extension": ".py",
   "mimetype": "text/x-python",
   "name": "python",
   "nbconvert_exporter": "python",
   "pygments_lexer": "ipython3",
   "version": "3.5.2"
  }
 },
 "nbformat": 4,
 "nbformat_minor": 0
}
