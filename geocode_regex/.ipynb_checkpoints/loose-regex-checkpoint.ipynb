{
 "cells": [
  {
   "cell_type": "code",
   "execution_count": 1,
   "metadata": {
    "collapsed": true
   },
   "outputs": [],
   "source": [
    "import pandas as pd\n",
    "import numpy as np\n",
    "import scipy.stats as stats\n",
    "import re\n",
    "\n",
    "import matplotlib.pyplot as plt\n",
    "%matplotlib inline"
   ]
  },
  {
   "cell_type": "code",
   "execution_count": 2,
   "metadata": {
    "collapsed": false,
    "scrolled": true
   },
   "outputs": [
    {
     "data": {
      "text/html": [
       "<div>\n",
       "<table border=\"1\" class=\"dataframe\">\n",
       "  <thead>\n",
       "    <tr style=\"text-align: right;\">\n",
       "      <th></th>\n",
       "      <th>id</th>\n",
       "      <th>Address</th>\n",
       "      <th>Count</th>\n",
       "    </tr>\n",
       "  </thead>\n",
       "  <tbody>\n",
       "    <tr>\n",
       "      <th>442</th>\n",
       "      <td>443</td>\n",
       "      <td></td>\n",
       "      <td>20</td>\n",
       "    </tr>\n",
       "  </tbody>\n",
       "</table>\n",
       "</div>"
      ],
      "text/plain": [
       "      id Address  Count\n",
       "442  443             20"
      ]
     },
     "execution_count": 2,
     "metadata": {},
     "output_type": "execute_result"
    }
   ],
   "source": [
    "file = 'NonStdAdd.tsv'\n",
    "df=pd.read_table(file)\n",
    "df.insert(0,'id',range(1,len(df)+1))\n",
    "df.fillna(\"\", inplace=True)\n",
    "df.iloc[[442]]"
   ]
  },
  {
   "cell_type": "code",
   "execution_count": 3,
   "metadata": {
    "collapsed": false
   },
   "outputs": [],
   "source": [
    "#First we construct simple regex for useful data types, so that we can label all unrecognized substrings as unknowns\n",
    "\n",
    "#non-generalized postal code\n",
    "postalCodePattern        = re.compile(\"\\\\b([0-9]{4})([1-9]{2})\")\n",
    "#formal MKTS code(s)\n",
    "preFormedMKTSCodePattern = re.compile(\"\\\\b([A-Z]{2}[0-9]+-[0-9]+[A-Z])(( ?,? ?)([A-Z]{2}[0-9]+-[0-9]+[A-Z]))*\\\\b\")\n",
    "#lot(s) fragment\n",
    "lotFragPattern           = re.compile(\"\\\\b(LOT) ?\\(?S?\\)? ?:? ?(NO\\.? ?)?([0-9]+[A-Z]+( ?\\(?PT\\)?)?)(( ?,? ?[0-9]+[A-Z])(\\(?PT\\)?)?)* ?(AND|&)? ?([0-9]+[A-Z]+)?\\\\b\")\n",
    "#mk(s) fragment - same as lotFrag, except for MK head (deprecated)\n",
    "#mkFragPattern            = re.compile(\"\\\\b((MK) ?\\(?S?\\)? ?:? ?(NO\\.? ?)?[0-9]{2}-[0-9]+[A-Z]+( ?\\(?PT\\)?)?)(( ?,? ?(MK) ?\\(?S?\\)? ?:? ?(NO\\.? ?)?[0-9]{2}-[0-9]+[A-Z])( ?\\(?PT\\)?)?)* ?(AND|&)? ?([0-9]+[A-Z]+)?\\\\b\")\n",
    "#mk(s) fragment\n",
    "mkFragPattern            = re.compile(\"\\\\b(MK) ?\\(?S?\\)? ?:? ?(NO\\.? ?)?[A-Z]{0,2}[1-9][0-9]?\\\\b\")"
   ]
  },
  {
   "cell_type": "code",
   "execution_count": 4,
   "metadata": {
    "collapsed": false
   },
   "outputs": [
    {
     "name": "stdout",
     "output_type": "stream",
     "text": [
      "MK21\n"
     ]
    }
   ],
   "source": [
    "match = mkFragPattern.search(\"MK21-02743W PT,MK21-02464P PT,MK21-02390W PT FOR PART A:  BUILDING WORKS AT HOUGANG N9 C20 (TOTAL: 718 DWELLING UNITS) AT BUANGKOK CRESCENT; AND\")\n",
    "print(match.group())"
   ]
  },
  {
   "cell_type": "code",
   "execution_count": 12,
   "metadata": {
    "collapsed": false,
    "scrolled": true
   },
   "outputs": [],
   "source": [
    "def matchtype(bag):\n",
    "    \n",
    "    preFormedMKTSCode_match = preFormedMKTSCodePattern.search(bag)\n",
    "    if(preFormedMKTSCode_match!=None):\n",
    "        #return 'pre:' + preFormedMKTSCode_match.group()\n",
    "        return 'preformed'\n",
    "    \n",
    "    postalCode_match = postalCodePattern.search(bag)\n",
    "    if(postalCode_match!=None):\n",
    "        #return 'post:' + postalCode_match.group()\n",
    "        return 'postal'\n",
    "    \n",
    "    mkFrag_match = mkFragPattern.search(bag)\n",
    "    lotFrag_match = lotFragPattern.search(bag)\n",
    "    if(mkFrag_match != None):\n",
    "        if(lotFrag_match!=None):\n",
    "            #return mkFrag_match.group() + lotFrag_match.group()\n",
    "            return 'unstruc'\n",
    "        else:\n",
    "            #return mkFrag_match.group()\n",
    "            return 'mk'\n",
    "    \n",
    "    if(lotFrag_match!=None):\n",
    "        #return lotFrag_match.group()\n",
    "        return 'lot'\n",
    "    return 'Uncategorized'"
   ]
  },
  {
   "cell_type": "code",
   "execution_count": 8,
   "metadata": {
    "collapsed": false
   },
   "outputs": [
    {
     "name": "stdout",
     "output_type": "stream",
     "text": [
      "unstruc\n"
     ]
    }
   ],
   "source": [
    "print(matchtype(\"LOT: 02522P MK: 21 FOR PUNGGOL WEST CONTRACT 31 AT PUNGGOL WAY/SUMANG WAY BESIDE SUMANG LRT-CONTRACT NO: D/029/13\"))"
   ]
  },
  {
   "cell_type": "code",
   "execution_count": 13,
   "metadata": {
    "collapsed": false
   },
   "outputs": [],
   "source": [
    "df['type'] = df.apply(lambda row: matchtype(row['Address']), axis=1)"
   ]
  },
  {
   "cell_type": "code",
   "execution_count": 14,
   "metadata": {
    "collapsed": false
   },
   "outputs": [
    {
     "data": {
      "image/png": "[encoded data removed]",
      "text/plain": [
       "<matplotlib.figure.Figure at 0x283fcd7e2e8>"
      ]
     },
     "metadata": {},
     "output_type": "display_data"
    },
    {
     "name": "stdout",
     "output_type": "stream",
     "text": [
      "                id  Address  Count  bag\n",
      "type                                   \n",
      "Uncategorized  138      138    138  138\n",
      "lot             30       30     30   30\n",
      "mk               8        8      8    8\n",
      "postal         167      167    167  167\n",
      "preformed      240      240    240  240\n",
      "unstruc        117      117    117  117\n"
     ]
    }
   ],
   "source": [
    "catdf = df.groupby('type').count()\n",
    "catdf.plot(kind='bar')\n",
    "plt.show()\n",
    "print(catdf)"
   ]
  },
  {
   "cell_type": "code",
   "execution_count": 11,
   "metadata": {
    "collapsed": false
   },
   "outputs": [
    {
     "data": {
      "text/html": [
       "<div>\n",
       "<table border=\"1\" class=\"dataframe\">\n",
       "  <thead>\n",
       "    <tr style=\"text-align: right;\">\n",
       "      <th></th>\n",
       "      <th>id</th>\n",
       "      <th>Address</th>\n",
       "      <th>Count</th>\n",
       "      <th>bag</th>\n",
       "      <th>type</th>\n",
       "    </tr>\n",
       "  </thead>\n",
       "  <tbody>\n",
       "    <tr>\n",
       "      <th>1</th>\n",
       "      <td>2</td>\n",
       "      <td>WOODLEIGH CLOSE LOT 7459 MK 17 SINGAPORE 350000</td>\n",
       "      <td>1</td>\n",
       "      <td>[WOODLEIGH, CLOSE, LOT, 7459, MK, 17, SINGAPOR...</td>\n",
       "      <td>mk</td>\n",
       "    </tr>\n",
       "    <tr>\n",
       "      <th>75</th>\n",
       "      <td>76</td>\n",
       "      <td>LOT 9934 MK 18 ANG MO KIO AVENUE 5 SINGAPORE 5...</td>\n",
       "      <td>1</td>\n",
       "      <td>[LOT, 9934, MK, 18, ANG, MO, KIO, AVENUE, 5, S...</td>\n",
       "      <td>mk</td>\n",
       "    </tr>\n",
       "    <tr>\n",
       "      <th>77</th>\n",
       "      <td>78</td>\n",
       "      <td>LOT 7053 MK 28 SIMEI ROAD SINGAPORE 520000</td>\n",
       "      <td>1</td>\n",
       "      <td>[LOT, 7053, MK, 28, SIMEI, ROAD, SINGAPORE, 52...</td>\n",
       "      <td>mk</td>\n",
       "    </tr>\n",
       "    <tr>\n",
       "      <th>78</th>\n",
       "      <td>79</td>\n",
       "      <td>LOT 6617 MK 23 UBI AVENUE 4 SINGAPORE 400000</td>\n",
       "      <td>1</td>\n",
       "      <td>[LOT, 6617, MK, 23, UBI, AVENUE, 4, SINGAPORE,...</td>\n",
       "      <td>mk</td>\n",
       "    </tr>\n",
       "    <tr>\n",
       "      <th>79</th>\n",
       "      <td>80</td>\n",
       "      <td>LOT 4249 MK 20 JALAN KAYU SINGAPORE 790000</td>\n",
       "      <td>1</td>\n",
       "      <td>[LOT, 4249, MK, 20, JALAN, KAYU, SINGAPORE, 79...</td>\n",
       "      <td>mk</td>\n",
       "    </tr>\n",
       "    <tr>\n",
       "      <th>319</th>\n",
       "      <td>320</td>\n",
       "      <td>SEMBAWANG ROAD (STATE LAND) LOT SITE 2 MK 19 S...</td>\n",
       "      <td>5</td>\n",
       "      <td>[SEMBAWANG, ROAD, (STATE, LAND), LOT, SITE, 2,...</td>\n",
       "      <td>mk</td>\n",
       "    </tr>\n",
       "    <tr>\n",
       "      <th>329</th>\n",
       "      <td>330</td>\n",
       "      <td>ANG MO KIO AVENUE 5/SELETAR ROAD (LOTS 9425, 2...</td>\n",
       "      <td>5</td>\n",
       "      <td>[ANG, MO, KIO, AVENUE, 5/SELETAR, ROAD, (LOTS,...</td>\n",
       "      <td>mk</td>\n",
       "    </tr>\n",
       "    <tr>\n",
       "      <th>402</th>\n",
       "      <td>403</td>\n",
       "      <td>LOT: 7157 A(PT), 1920C (PT) MK: 28 &amp; 29 FOR TA...</td>\n",
       "      <td>12</td>\n",
       "      <td>[LOT:, 7157, A(PT), 1920C, (PT), MK:, 28, &amp;, 2...</td>\n",
       "      <td>mk</td>\n",
       "    </tr>\n",
       "  </tbody>\n",
       "</table>\n",
       "</div>"
      ],
      "text/plain": [
       "      id                                            Address  Count  \\\n",
       "1      2    WOODLEIGH CLOSE LOT 7459 MK 17 SINGAPORE 350000      1   \n",
       "75    76  LOT 9934 MK 18 ANG MO KIO AVENUE 5 SINGAPORE 5...      1   \n",
       "77    78         LOT 7053 MK 28 SIMEI ROAD SINGAPORE 520000      1   \n",
       "78    79       LOT 6617 MK 23 UBI AVENUE 4 SINGAPORE 400000      1   \n",
       "79    80         LOT 4249 MK 20 JALAN KAYU SINGAPORE 790000      1   \n",
       "319  320  SEMBAWANG ROAD (STATE LAND) LOT SITE 2 MK 19 S...      5   \n",
       "329  330  ANG MO KIO AVENUE 5/SELETAR ROAD (LOTS 9425, 2...      5   \n",
       "402  403  LOT: 7157 A(PT), 1920C (PT) MK: 28 & 29 FOR TA...     12   \n",
       "\n",
       "                                                   bag type  \n",
       "1    [WOODLEIGH, CLOSE, LOT, 7459, MK, 17, SINGAPOR...   mk  \n",
       "75   [LOT, 9934, MK, 18, ANG, MO, KIO, AVENUE, 5, S...   mk  \n",
       "77   [LOT, 7053, MK, 28, SIMEI, ROAD, SINGAPORE, 52...   mk  \n",
       "78   [LOT, 6617, MK, 23, UBI, AVENUE, 4, SINGAPORE,...   mk  \n",
       "79   [LOT, 4249, MK, 20, JALAN, KAYU, SINGAPORE, 79...   mk  \n",
       "319  [SEMBAWANG, ROAD, (STATE, LAND), LOT, SITE, 2,...   mk  \n",
       "329  [ANG, MO, KIO, AVENUE, 5/SELETAR, ROAD, (LOTS,...   mk  \n",
       "402  [LOT:, 7157, A(PT), 1920C, (PT), MK:, 28, &, 2...   mk  "
      ]
     },
     "execution_count": 11,
     "metadata": {},
     "output_type": "execute_result"
    }
   ],
   "source": [
    "df[df.type == 'mk']"
   ]
  }
 ],
 "metadata": {
  "kernelspec": {
   "display_name": "Python 3",
   "language": "python",
   "name": "python3"
  },
  "language_info": {
   "codemirror_mode": {
    "name": "ipython",
    "version": 3
   },
   "file_extension": ".py",
   "mimetype": "text/x-python",
   "name": "python",
   "nbconvert_exporter": "python",
   "pygments_lexer": "ipython3",
   "version": "3.5.1"
  }
 },
 "nbformat": 4,
 "nbformat_minor": 0
}
